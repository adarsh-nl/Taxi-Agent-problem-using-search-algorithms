{
 "cells": [
  {
   "cell_type": "code",
   "execution_count": 491,
   "metadata": {},
   "outputs": [],
   "source": [
    "# GENERAL SEARCH ALGORITHMS"
   ]
  },
  {
   "cell_type": "code",
   "execution_count": 492,
   "metadata": {},
   "outputs": [],
   "source": [
    "DEBUG = False\n",
    "DEFAULT_ALG=\"BFS\""
   ]
  },
  {
   "cell_type": "code",
   "execution_count": 493,
   "metadata": {},
   "outputs": [],
   "source": [
    "from dataclasses import dataclass, field\n",
    "from typing import Any\n",
    "\n",
    "class Problem:\n",
    "    def __init__(self, initial_state, actions, result, goal_test, step_cost):\n",
    "        self.initial_state = initial_state\n",
    "        self.actions = actions\n",
    "        self.result = result\n",
    "        self.goal_test = goal_test\n",
    "        self.step_cost = step_cost\n",
    "        \n",
    "@dataclass(order=True)        \n",
    "class Node:\n",
    "    heuristic_cost: int\n",
    "    path_cost: int=field(compare=False)\n",
    "    state: str=field(compare=False)\n",
    "    parent: str=field(compare=False, repr=False)\n",
    "    action: str=field(compare=False, repr=False)"
   ]
  },
  {
   "cell_type": "code",
   "execution_count": 494,
   "metadata": {},
   "outputs": [],
   "source": [
    "\n",
    "\n",
    "def child_node(problem, parent, action, heuristics, alg):\n",
    "    heuristic_estimation=0\n",
    "    if(alg==\"UCS\"):\n",
    "        return Node(parent.path_cost + problem.step_cost(parent.state, action),\n",
    "               parent.path_cost + problem.step_cost(parent.state, action),\n",
    "               problem.result(parent.state, action),\n",
    "               parent,\n",
    "               action)\n",
    "    elif(alg==\"Astar\"):\n",
    "        heuristic_estimation=heuristics[parent.state]+parent.path_cost\n",
    "        return Node(heuristic_estimation,\n",
    "                parent.path_cost + problem.step_cost(parent.state, action),\n",
    "                problem.result(parent.state, action),\n",
    "                parent,\n",
    "                action)\n",
    "\n",
    "    return Node(heuristic_estimation,\n",
    "                parent.path_cost + problem.step_cost(parent.state, action),\n",
    "                problem.result(parent.state, action),\n",
    "                parent,\n",
    "                action)"
   ]
  },
  {
   "cell_type": "code",
   "execution_count": 495,
   "metadata": {},
   "outputs": [],
   "source": [
    "from queue import Queue, LifoQueue, PriorityQueue\n",
    "\n",
    "def create_frontier(problem, alg,heuristics):\n",
    "    queue = None\n",
    "    match alg:\n",
    "        case \"BFS\":\n",
    "            queue = Queue()\n",
    "        case \"DFS\":\n",
    "            queue = LifoQueue()\n",
    "        case \"UCS\":\n",
    "            queue = PriorityQueue()\n",
    "        case \"Astar\":\n",
    "            queue = PriorityQueue()\n",
    "            h1 = heuristics[problem.initial_state]\n",
    "            queue.put(Node(h1, 0, problem.initial_state, None, None))\n",
    "            return queue\n",
    "\n",
    "\n",
    "    queue.put(Node(0, 0, problem.initial_state, None, None))\n",
    "    return queue\n",
    "\n",
    "def select_next_node(frontier):\n",
    "    return frontier.get()\n",
    "\n",
    "def expand(leaf, problem, frontier, explored,heuristics, alg):\n",
    "    for action in problem.actions(leaf.state):\n",
    "        child = child_node(problem, leaf, action, heuristics, alg)\n",
    "        if child.state not in explored:\n",
    "            #Node.path_cost-(heuristics[parent.state])\n",
    "            frontier.put(child)\n",
    "        "
   ]
  },
  {
   "cell_type": "code",
   "execution_count": 496,
   "metadata": {},
   "outputs": [],
   "source": [
    "def graph_search(problem, alg=DEFAULT_ALG):\n",
    "    frontier = create_frontier(problem, alg,heuristics)\n",
    "    explored = set()\n",
    "    while True:\n",
    "        debug(\"\\n Frontier:{} \\n Explored\".format(list(frontier.queue), explored))\n",
    "        if frontier.empty():\n",
    "            raise Exception(\"Unable to find solution\")\n",
    "        leaf = select_next_node(frontier)\n",
    "        if problem.goal_test(leaf.state):\n",
    "            print(\"\\n Solution:\\n\")\n",
    "            pretty_print_solution(leaf)\n",
    "            return\n",
    "        explored.add(leaf.state)\n",
    "        expand(leaf, problem, frontier, explored,heuristics,alg)\n",
    "        "
   ]
  },
  {
   "cell_type": "code",
   "execution_count": 497,
   "metadata": {},
   "outputs": [],
   "source": [
    "def pretty_print_solution(leaf):\n",
    "    node = leaf\n",
    "    path = []\n",
    "    while node.parent:\n",
    "        path.append((node.state, node.action, node.path_cost))\n",
    "        node = node.parent\n",
    "    print(\"Initial State: {}\".format(node.state))\n",
    "    path.reverse()\n",
    "    for state, action, cost in path:\n",
    "        print(\"Action: {}   Result: {}   Cost: {}\".format(action, state, cost))\n",
    "    print(\"Goal Achieved\")\n",
    "        \n",
    "\n",
    "def debug(str):\n",
    "    if DEBUG:\n",
    "        print(str)"
   ]
  },
  {
   "cell_type": "code",
   "execution_count": 498,
   "metadata": {},
   "outputs": [],
   "source": [
    "# TAXI AGENT PROBLEM"
   ]
  },
  {
   "cell_type": "code",
   "execution_count": 499,
   "metadata": {},
   "outputs": [
    {
     "name": "stdout",
     "output_type": "stream",
     "text": [
      "/bin/bash: -c: line 1: syntax error near unexpected token `attachment:romania_map.jpg'\n",
      "/bin/bash: -c: line 1: `[romania_map.jpg](attachment:romania_map.jpg)'\n"
     ]
    }
   ],
   "source": [
    "![romania_map.jpg](attachment:romania_map.jpg)"
   ]
  },
  {
   "cell_type": "code",
   "execution_count": 500,
   "metadata": {},
   "outputs": [],
   "source": [
    "## Romania Graph Construction & Testing"
   ]
  },
  {
   "cell_type": "code",
   "execution_count": null,
   "metadata": {},
   "outputs": [],
   "source": []
  },
  {
   "cell_type": "code",
   "execution_count": 501,
   "metadata": {},
   "outputs": [],
   "source": [
    "import pandas as pd\n",
    "data=pd.read_csv(\"/home/adarsh/Downloads/AIKR/Assignment3/Adarsh N L - Indian_capitals - NS_Dataset_1.csv\")\n",
    "\n",
    "def createCapitalcitiesGraph(): #Function to create graph\n",
    "    capitalList=[]\n",
    "    cost=[]\n",
    "    for i in range(len(data[\"City\"])):\n",
    "        cost=tuple((data[\"City\"][i],data[\"Nearest city\"][i],data[\"Distance\"][i])) #forming a tuple of city1, city2 and the distance between two cities\n",
    "        capitalList.append(cost)\n",
    "    return capitalList\n",
    "\n",
    "capitalGraph=createCapitalcitiesGraph()\n",
    "graph=capitalGraph\n",
    "#print(graph)"
   ]
  },
  {
   "cell_type": "code",
   "execution_count": 502,
   "metadata": {},
   "outputs": [],
   "source": [
    "# function to calculate the heuristics\n",
    "from geopy.distance import geodesic\n",
    "\n",
    "dataset = pd.read_csv(\"/home/adarsh/Downloads/AIKR/Assignment3/in.csv\")\n",
    "\n",
    "#empty list to store the heuristic estiamtion from all cities to the goal node\n",
    "heuristics=[] \n",
    "\n",
    "goalcity=\"Imphal\"\n",
    "for i in range(len(dataset[\"city\"])):                      #iterates over the length of the file to find the latitude and longitude of the goal state\n",
    "    if(dataset[\"city\"][i]==goalcity):\n",
    "        city2=[((dataset[\"lat\"][i]),dataset[\"lng\"][i])]\n",
    "\n",
    "def distance_between_cities(city1,city2): #calculates the straight line distance between the ith city and the goal city\n",
    "    dist=geodesic(city1,city2).kilometers\n",
    "    return dist\n",
    "\n",
    "for i in range(len(dataset[\"city\"])):\n",
    "    if(dataset[\"capital\"][i]==\"admin\"):\n",
    "        city1=[((dataset[\"lat\"][i]),dataset[\"lng\"][i])]\n",
    "        heuristics.append((dataset[\"city\"][i],distance_between_cities(city1,city2)))\n",
    "\n",
    "#print(dict(heuristics))\n",
    "heuristics=dict(heuristics)\n",
    "#heuristics['Chennai']"
   ]
  },
  {
   "cell_type": "code",
   "execution_count": 503,
   "metadata": {},
   "outputs": [],
   "source": [
    "# An utility function to create a collection of all city names\n",
    "def cities_set(graph):\n",
    "    cities = []\n",
    "    for city1, city2, _ in graph:\n",
    "        cities.extend([city1, city2])\n",
    "    return sorted(set(cities))           "
   ]
  },
  {
   "cell_type": "code",
   "execution_count": 504,
   "metadata": {},
   "outputs": [
    {
     "name": "stdout",
     "output_type": "stream",
     "text": [
      "1. Agartala\n",
      "2. Aizawl\n",
      "3. Amaravathi\n",
      "4. Bangalore\n",
      "5. Bhopal\n",
      "6. Bhubaneswar\n",
      "7. Chandigarh\n",
      "8. Chennai\n",
      "9. Dehradun\n",
      "10. Dispur\n",
      "11. Gandhinagar\n",
      "12. Gangtok\n",
      "13. Hyderabad\n",
      "14. Imphal\n",
      "15. Itanagar\n",
      "16. Jaipur\n",
      "17. Kohima\n",
      "18. Kolkata\n",
      "19. Lucknow\n",
      "20. Mumbai\n",
      "21. Panaji\n",
      "22. Patna\n",
      "23. Raipur\n",
      "24. Ranchi\n",
      "25. Shillong\n",
      "26. Shimla\n",
      "27. Srinagar\n",
      "28. Thiruvananthapuram\n",
      "total cities:  28\n"
     ]
    }
   ],
   "source": [
    "# An utility to print the list of cities and the total - sanity check\n",
    "cities = cities_set(graph)\n",
    "for idx, city in enumerate(cities):\n",
    "    print(\"{}. {}\".format(idx+1,city))\n",
    "\n",
    "\n",
    "print(\"total cities: \",len(cities))\n"
   ]
  },
  {
   "cell_type": "code",
   "execution_count": 505,
   "metadata": {},
   "outputs": [],
   "source": [
    "graph_dict = dict()\n",
    "\n",
    "def add_route(city1, city2, cost, graph_dict):\n",
    "    if city1 not in graph_dict:\n",
    "        graph_dict[city1] = {city2 : cost}\n",
    "    else:\n",
    "        graph_dict[city1][city2] = cost\n",
    "\n",
    "def construct_graph_dict(graph, graph_dict):\n",
    "    for city1, city2, cost in graph:\n",
    "        add_route(city1, city2, cost, graph_dict)\n",
    "        add_route(city2, city1, cost, graph_dict)"
   ]
  },
  {
   "cell_type": "code",
   "execution_count": 506,
   "metadata": {},
   "outputs": [],
   "source": [
    "construct_graph_dict(graph, graph_dict)"
   ]
  },
  {
   "cell_type": "code",
   "execution_count": 507,
   "metadata": {},
   "outputs": [],
   "source": [
    "#len(graph_dict.keys())"
   ]
  },
  {
   "cell_type": "code",
   "execution_count": 508,
   "metadata": {},
   "outputs": [],
   "source": [
    "## Taxi Agent Problem Definition"
   ]
  },
  {
   "cell_type": "code",
   "execution_count": 509,
   "metadata": {},
   "outputs": [],
   "source": [
    "# Initial State\n",
    "ta_initial_state = \"Chennai\"\n",
    "\n",
    "# Actions\n",
    "def ta_actions(state):\n",
    "    return list(graph_dict[state].keys())\n",
    "\n",
    "#Transitions/Results\n",
    "def ta_result(state, action):\n",
    "    return action\n",
    "\n",
    "# Goal Test\n",
    "def ta_goal_test(state):\n",
    "    return state == \"Imphal\"\n",
    "\n",
    "# Cost Function\n",
    "def ta_cost(state, action):\n",
    "    return graph_dict[state][action]\n",
    "\n",
    "taxi_problem = Problem(ta_initial_state, ta_actions, ta_result, ta_goal_test, ta_cost)"
   ]
  },
  {
   "cell_type": "code",
   "execution_count": 510,
   "metadata": {},
   "outputs": [
    {
     "name": "stdout",
     "output_type": "stream",
     "text": [
      "\n",
      " Solution:\n",
      "\n",
      "Initial State: Chennai\n",
      "Action: Amaravathi   Result: Amaravathi   Cost: 552\n",
      "Action: Bhubaneswar   Result: Bhubaneswar   Cost: 1439\n",
      "Action: Kolkata   Result: Kolkata   Cost: 1980\n",
      "Action: Dispur   Result: Dispur   Cost: 3115\n",
      "Action: Imphal   Result: Imphal   Cost: 3697\n",
      "Goal Achieved\n"
     ]
    }
   ],
   "source": [
    "# The default is BFS\n",
    "graph_search(taxi_problem)"
   ]
  },
  {
   "cell_type": "code",
   "execution_count": 511,
   "metadata": {},
   "outputs": [
    {
     "name": "stdout",
     "output_type": "stream",
     "text": [
      "\n",
      " Solution:\n",
      "\n",
      "Initial State: Chennai\n",
      "Action: Thiruvananthapuram   Result: Thiruvananthapuram   Cost: 871\n",
      "Action: Bangalore   Result: Bangalore   Cost: 1701\n",
      "Action: Hyderabad   Result: Hyderabad   Cost: 2370\n",
      "Action: Mumbai   Result: Mumbai   Cost: 3189\n",
      "Action: Raipur   Result: Raipur   Cost: 4380\n",
      "Action: Ranchi   Result: Ranchi   Cost: 5060\n",
      "Action: Patna   Result: Patna   Cost: 5487\n",
      "Action: Kolkata   Result: Kolkata   Cost: 6170\n",
      "Action: Dispur   Result: Dispur   Cost: 7305\n",
      "Action: Kohima   Result: Kohima   Cost: 7755\n",
      "Action: Imphal   Result: Imphal   Cost: 7991\n",
      "Goal Achieved\n"
     ]
    }
   ],
   "source": [
    "graph_search(taxi_problem, \"DFS\")"
   ]
  },
  {
   "cell_type": "code",
   "execution_count": 512,
   "metadata": {},
   "outputs": [
    {
     "name": "stdout",
     "output_type": "stream",
     "text": [
      "\n",
      " Solution:\n",
      "\n",
      "Initial State: Chennai\n",
      "Action: Amaravathi   Result: Amaravathi   Cost: 552\n",
      "Action: Bhubaneswar   Result: Bhubaneswar   Cost: 1439\n",
      "Action: Kolkata   Result: Kolkata   Cost: 1980\n",
      "Action: Dispur   Result: Dispur   Cost: 3115\n",
      "Action: Imphal   Result: Imphal   Cost: 3697\n",
      "Goal Achieved\n"
     ]
    }
   ],
   "source": [
    "graph_search(taxi_problem, \"UCS\")"
   ]
  },
  {
   "cell_type": "code",
   "execution_count": 513,
   "metadata": {},
   "outputs": [
    {
     "name": "stdout",
     "output_type": "stream",
     "text": [
      "\n",
      " Solution:\n",
      "\n",
      "Initial State: Chennai\n",
      "Action: Amaravathi   Result: Amaravathi   Cost: 552\n",
      "Action: Bhubaneswar   Result: Bhubaneswar   Cost: 1439\n",
      "Action: Kolkata   Result: Kolkata   Cost: 1980\n",
      "Action: Dispur   Result: Dispur   Cost: 3115\n",
      "Action: Imphal   Result: Imphal   Cost: 3697\n",
      "Goal Achieved\n"
     ]
    }
   ],
   "source": [
    "graph_search(taxi_problem, \"Astar\")"
   ]
  },
  {
   "cell_type": "code",
   "execution_count": 514,
   "metadata": {},
   "outputs": [],
   "source": [
    "# VACCUM CLEANER AGENT PROBLEM"
   ]
  },
  {
   "cell_type": "code",
   "execution_count": 515,
   "metadata": {},
   "outputs": [
    {
     "name": "stdout",
     "output_type": "stream",
     "text": [
      "/bin/bash: -c: line 1: syntax error near unexpected token `attachment:VacuumWorld.jpeg'\n",
      "/bin/bash: -c: line 1: `[VacuumWorld.jpeg](attachment:VacuumWorld.jpeg)'\n"
     ]
    }
   ],
   "source": [
    "![VacuumWorld.jpeg](attachment:VacuumWorld.jpeg)"
   ]
  },
  {
   "cell_type": "code",
   "execution_count": 516,
   "metadata": {},
   "outputs": [],
   "source": [
    "## Vaccum Cleaner Agent Problem Definition"
   ]
  },
  {
   "cell_type": "code",
   "execution_count": 517,
   "metadata": {},
   "outputs": [],
   "source": [
    "vc_initial_state = ('A', False, False)\n",
    "\n",
    "def vc_actions(state):\n",
    "    return [\"suck\",\"move_right\",\"move_left\"]\n",
    "    \n",
    "def vc_result(state, action):\n",
    "    loc, A_clean, B_clean = state\n",
    "    match loc:\n",
    "        case \"A\":\n",
    "            match action:\n",
    "                case \"suck\":\n",
    "                    A_clean = True\n",
    "                case \"move_right\":\n",
    "                    loc = \"B\"\n",
    "        case \"B\":\n",
    "            match action:\n",
    "                case \"suck\":\n",
    "                    B_clean = True\n",
    "                case \"move_left\":\n",
    "                    loc = \"A\"\n",
    "    return (loc, A_clean, B_clean)\n",
    "\n",
    "def vc_goal_test(state):\n",
    "    _, A_clean, B_clean = state\n",
    "    return A_clean and B_clean\n",
    "\n",
    "def vc_cost(state, action):\n",
    "    return 1\n",
    "\n",
    "VC_problem = Problem(vc_initial_state, vc_actions, vc_result, vc_goal_test, vc_cost)"
   ]
  },
  {
   "cell_type": "code",
   "execution_count": 518,
   "metadata": {
    "scrolled": true
   },
   "outputs": [
    {
     "name": "stdout",
     "output_type": "stream",
     "text": [
      "\n",
      " Solution:\n",
      "\n",
      "Initial State: ('A', False, False)\n",
      "Action: suck   Result: ('A', True, False)   Cost: 1\n",
      "Action: move_right   Result: ('B', True, False)   Cost: 2\n",
      "Action: suck   Result: ('B', True, True)   Cost: 3\n",
      "Goal Achieved\n"
     ]
    }
   ],
   "source": [
    "graph_search(VC_problem)"
   ]
  },
  {
   "cell_type": "code",
   "execution_count": 519,
   "metadata": {},
   "outputs": [
    {
     "name": "stdout",
     "output_type": "stream",
     "text": [
      "\n",
      " Solution:\n",
      "\n",
      "Initial State: ('A', False, False)\n",
      "Action: move_right   Result: ('B', False, False)   Cost: 1\n",
      "Action: suck   Result: ('B', False, True)   Cost: 2\n",
      "Action: move_left   Result: ('A', False, True)   Cost: 3\n",
      "Action: suck   Result: ('A', True, True)   Cost: 4\n",
      "Goal Achieved\n"
     ]
    }
   ],
   "source": [
    "graph_search(VC_problem, \"DFS\")"
   ]
  },
  {
   "cell_type": "code",
   "execution_count": 520,
   "metadata": {},
   "outputs": [
    {
     "name": "stdout",
     "output_type": "stream",
     "text": [
      "\n",
      " Solution:\n",
      "\n",
      "Initial State: ('A', False, False)\n",
      "Action: suck   Result: ('A', True, False)   Cost: 1\n",
      "Action: move_right   Result: ('B', True, False)   Cost: 2\n",
      "Action: suck   Result: ('B', True, True)   Cost: 3\n",
      "Goal Achieved\n"
     ]
    }
   ],
   "source": [
    "graph_search(VC_problem, \"UCS\")"
   ]
  },
  {
   "cell_type": "code",
   "execution_count": null,
   "metadata": {},
   "outputs": [],
   "source": []
  }
 ],
 "metadata": {
  "kernelspec": {
   "display_name": "Python 3.10.6 ('aikr')",
   "language": "python",
   "name": "python3"
  },
  "language_info": {
   "codemirror_mode": {
    "name": "ipython",
    "version": 3
   },
   "file_extension": ".py",
   "mimetype": "text/x-python",
   "name": "python",
   "nbconvert_exporter": "python",
   "pygments_lexer": "ipython3",
   "version": "3.10.6"
  },
  "vscode": {
   "interpreter": {
    "hash": "b5cbcb2e7a436146f2ebede0c6fc49912a11acd898b062d94ddd451e1d545775"
   }
  }
 },
 "nbformat": 4,
 "nbformat_minor": 4
}
